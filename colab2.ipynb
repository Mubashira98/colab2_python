{
  "nbformat": 4,
  "nbformat_minor": 0,
  "metadata": {
    "colab": {
      "provenance": []
    },
    "kernelspec": {
      "name": "python3",
      "display_name": "Python 3"
    },
    "language_info": {
      "name": "python"
    }
  },
  "cells": [
    {
      "cell_type": "code",
      "execution_count": null,
      "metadata": {
        "colab": {
          "base_uri": "https://localhost:8080/"
        },
        "id": "nbW8UbiMw0PU",
        "outputId": "effcc5cd-9b22-42cf-f120-59fad3b11369"
      },
      "outputs": [
        {
          "output_type": "stream",
          "name": "stdout",
          "text": [
            "3\n",
            "1 2 3\n",
            "<map object at 0x7f2fc1564c10>\n"
          ]
        }
      ],
      "source": [
        " n = int(input())\n",
        "integer_list = map(int, input().split())\n",
        "print(integer_list)   "
      ]
    },
    {
      "cell_type": "code",
      "source": [
        "a=\"this is a string\"\n",
        "a=a.split(\"\")\n",
        "print(a)\n",
        "a=\"+\".join(a)\n",
        "print(a)"
      ],
      "metadata": {
        "colab": {
          "base_uri": "https://localhost:8080/"
        },
        "id": "tIDdFB78zwTx",
        "outputId": "1113c71c-ab9c-4253-94bf-13d86f0d44d4"
      },
      "execution_count": null,
      "outputs": [
        {
          "output_type": "stream",
          "name": "stdout",
          "text": [
            "['this is a string']\n",
            "this is a string\n"
          ]
        }
      ]
    },
    {
      "cell_type": "code",
      "source": [
        "a=\"ABCDCDC\"\n",
        "substring=\"CDC\"\n",
        "print(a.count(substring))\n"
      ],
      "metadata": {
        "colab": {
          "base_uri": "https://localhost:8080/"
        },
        "id": "lblE21oI8C3b",
        "outputId": "4d1176fc-3aa2-4f18-a544-6d2c8448c921"
      },
      "execution_count": null,
      "outputs": [
        {
          "output_type": "stream",
          "name": "stdout",
          "text": [
            "1\n"
          ]
        }
      ]
    },
    {
      "cell_type": "code",
      "source": [
        "s=input()\n",
        "x=s.isalnum()\n",
        "print(x)"
      ],
      "metadata": {
        "id": "fPEorSdAXr9U"
      },
      "execution_count": null,
      "outputs": []
    },
    {
      "cell_type": "code",
      "source": [
        "s=\"qA2\"\n",
        "res = any(chr.isalnum() for chr in s)\n",
        "print(res)"
      ],
      "metadata": {
        "colab": {
          "base_uri": "https://localhost:8080/"
        },
        "id": "H2qkzRI-ZAHn",
        "outputId": "2b009b34-cc2a-46a7-94d0-55322b424ad8"
      },
      "execution_count": null,
      "outputs": [
        {
          "output_type": "stream",
          "name": "stdout",
          "text": [
            "True\n"
          ]
        }
      ]
    },
    {
      "cell_type": "code",
      "source": [
        "arr=[2,5,6,3]\n",
        "s=set(arr)\n",
        "print(s)\n",
        "a=sum(s)\n",
        "x=len(s)\n",
        "print(x)\n",
        "print(a)"
      ],
      "metadata": {
        "colab": {
          "base_uri": "https://localhost:8080/"
        },
        "id": "Zd1Is757fVqp",
        "outputId": "b9f90812-9aaf-4be7-c2ca-cafc77c73721"
      },
      "execution_count": null,
      "outputs": [
        {
          "output_type": "stream",
          "name": "stdout",
          "text": [
            "{2, 3, 5, 6}\n",
            "4\n",
            "16\n"
          ]
        }
      ]
    }
  ]
}